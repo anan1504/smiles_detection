{
 "cells": [
  {
   "cell_type": "markdown",
   "metadata": {},
   "source": [
    "## Following SMILE detection tutorial\n",
    "detetcting smiles in a video stream"
   ]
  },
  {
   "cell_type": "markdown",
   "metadata": {},
   "source": [
    "### Training the SMILE CNN"
   ]
  },
  {
   "cell_type": "code",
   "execution_count": 1,
   "metadata": {
    "ExecuteTime": {
     "end_time": "2019-03-03T22:07:20.888489Z",
     "start_time": "2019-03-03T22:07:20.870701Z"
    }
   },
   "outputs": [],
   "source": [
    "##will belong to train_model.py"
   ]
  },
  {
   "cell_type": "code",
   "execution_count": 8,
   "metadata": {
    "ExecuteTime": {
     "end_time": "2019-03-03T22:35:11.656965Z",
     "start_time": "2019-03-03T22:35:11.372110Z"
    }
   },
   "outputs": [],
   "source": [
    "#importing the necessary packages\n",
    "from sklearn.preprocessing import LabelEncoder\n",
    "from sklearn.model_selection import train_test_split\n",
    "from sklearn.metrics import classification_report\n",
    "from keras.preprocessing.image import img_to_array\n",
    "from keras.utils import np_utils\n",
    "from imutils import paths\n",
    "import matplotlib.pyplot as plt\n",
    "import numpy as np\n",
    "import argparse\n",
    "import imutils\n",
    "import cv2\n",
    "import os\n",
    "  "
   ]
  },
  {
   "cell_type": "code",
   "execution_count": 7,
   "metadata": {
    "ExecuteTime": {
     "end_time": "2019-03-03T22:29:23.010636Z",
     "start_time": "2019-03-03T22:29:23.002318Z"
    }
   },
   "outputs": [],
   "source": [
    "##first we have to set up the LeNet\n",
    "from keras.models import Sequential\n",
    "from keras.layers.convolutional import Conv2D\n",
    "from keras.layers.convolutional import MaxPooling2D\n",
    "from keras.layers.core import Activation\n",
    "from keras.layers.core import Flatten\n",
    "from keras.layers.core import Dense\n",
    "from keras import backend as K\n",
    "class LeNet:\n",
    "    \n",
    "    def build(width, height, depth, classes):\n",
    "        #inititalize the model\n",
    "        model = Sequential()\n",
    "        inputShape = (height, width, depth)\n",
    "        \n",
    "        #if we're using channels first then update the input shape\n",
    "        if K.image_data_format()== \"channels_first\":\n",
    "            inputShape = (depth, height, width)\n",
    "            \n",
    "        #first set of conv relu and pool layers\n",
    "        model.add(Conv2D(20, (5,5), padding=\"same\", input_shape = inputShape))\n",
    "        #20 filters\n",
    "        model.add(Activation(\"relu\"))\n",
    "        model.add(MaxPooling2D(pool_size=(2,2), strides=(2,2)))\n",
    "        #second set of conv relu and pool layers\n",
    "        model.add(Conv2D(50, (5,5), padding=\"same\"))\n",
    "        #50 filters\n",
    "        model.add(Activation(\"relu\"))\n",
    "        model.add(MaxPooling2D(pool_size=(2,2), strides=(2,2)))\n",
    "        #first set of FC and RELU\n",
    "        model.add(Flatten())\n",
    "        model.add(Dense(500)) #FC with 500 nodes\n",
    "        model.add(Activation(\"relu\"))\n",
    "        #softmax classifier\n",
    "        model.add(Dense(classes))\n",
    "        model.add(Activation(\"softmax\"))\n",
    "        \n",
    "        return model"
   ]
  },
  {
   "cell_type": "code",
   "execution_count": 10,
   "metadata": {
    "ExecuteTime": {
     "end_time": "2019-03-03T22:36:50.289830Z",
     "start_time": "2019-03-03T22:36:50.281230Z"
    }
   },
   "outputs": [],
   "source": [
    "##path to the SMILES dataset\n",
    "dataset = \"data/SMILEsmileD/\""
   ]
  },
  {
   "cell_type": "code",
   "execution_count": 15,
   "metadata": {
    "ExecuteTime": {
     "end_time": "2019-03-03T22:43:18.427194Z",
     "start_time": "2019-03-03T22:43:09.519758Z"
    }
   },
   "outputs": [],
   "source": [
    "data = []\n",
    "labels = []\n",
    "\n",
    "##loop over input images\n",
    "for imagePath in sorted(paths.list_images(dataset)):\n",
    "    #load image, preprocess and store\n",
    "    image = cv2.imread(imagePath)\n",
    "    image = cv2.cvtColor(image, cv2.COLOR_BGR2GRAY)\n",
    "    image = imutils.resize(image, width = 28) #resize to 28x28 for LeNet\n",
    "    image = img_to_array(image)\n",
    "    data.append(image)\n",
    "    \n",
    "    #get class labels and add to list\n",
    "    label = imagePath.split(os.path.sep)[-3]\n",
    "    label = \"smiling\" if label == \"positives\" else \"not_smiling\"\n",
    "    labels.append(label)"
   ]
  },
  {
   "cell_type": "code",
   "execution_count": 20,
   "metadata": {
    "ExecuteTime": {
     "end_time": "2019-03-03T22:46:21.242774Z",
     "start_time": "2019-03-03T22:46:21.093286Z"
    }
   },
   "outputs": [],
   "source": [
    "#normalization \n",
    "data = np.array(data, dtype = \"float\") / 255.0\n",
    "#one hot encoding\n",
    "labels = np.array(labels)\n",
    "le = LabelEncoder().fit(labels)\n",
    "labels = np_utils.to_categorical(le.transform(labels),2)\n"
   ]
  },
  {
   "cell_type": "code",
   "execution_count": 25,
   "metadata": {
    "ExecuteTime": {
     "end_time": "2019-03-03T23:00:30.658688Z",
     "start_time": "2019-03-03T23:00:30.655317Z"
    }
   },
   "outputs": [],
   "source": [
    "# accounting for data imbalance by computing class weights\n",
    "classTotals = labels.sum(axis = 0) #total number of examples per class\n",
    "classWeights = classTotals.max() / classTotals\n",
    "#every instance of \"smiling\" as 2.56 instances of \"not smiling\""
   ]
  },
  {
   "cell_type": "code",
   "execution_count": 61,
   "metadata": {
    "ExecuteTime": {
     "end_time": "2019-03-04T02:48:19.980811Z",
     "start_time": "2019-03-04T02:48:19.968836Z"
    }
   },
   "outputs": [
    {
     "data": {
      "text/plain": [
       "10400"
      ]
     },
     "execution_count": 61,
     "metadata": {},
     "output_type": "execute_result"
    }
   ],
   "source": [
    "len(trainX)"
   ]
  },
  {
   "cell_type": "code",
   "execution_count": 26,
   "metadata": {
    "ExecuteTime": {
     "end_time": "2019-03-03T23:01:33.661183Z",
     "start_time": "2019-03-03T23:01:33.538466Z"
    }
   },
   "outputs": [],
   "source": [
    "#split\n",
    "(trainX, testX, trainY, testY) = train_test_split(\n",
    "    data, labels, test_size = 0.21, stratify = labels, random_state = 42)"
   ]
  },
  {
   "cell_type": "code",
   "execution_count": 56,
   "metadata": {
    "ExecuteTime": {
     "end_time": "2019-03-04T02:15:51.610594Z",
     "start_time": "2019-03-04T02:11:04.815955Z"
    }
   },
   "outputs": [
    {
     "name": "stdout",
     "output_type": "stream",
     "text": [
      "Train on 10400 samples, validate on 2765 samples\n",
      "Epoch 1/20\n",
      "10400/10400 [==============================] - 13s 1ms/step - loss: 0.4877 - acc: 0.7723 - val_loss: 0.3163 - val_acc: 0.8604\n",
      "Epoch 2/20\n",
      "10400/10400 [==============================] - 14s 1ms/step - loss: 0.2959 - acc: 0.8787 - val_loss: 0.2753 - val_acc: 0.8868\n",
      "Epoch 3/20\n",
      "10400/10400 [==============================] - 15s 1ms/step - loss: 0.2575 - acc: 0.8973 - val_loss: 0.2547 - val_acc: 0.8976\n",
      "Epoch 4/20\n",
      "10400/10400 [==============================] - 15s 1ms/step - loss: 0.2368 - acc: 0.9057 - val_loss: 0.2872 - val_acc: 0.8843\n",
      "Epoch 5/20\n",
      "10400/10400 [==============================] - 15s 1ms/step - loss: 0.2271 - acc: 0.9095 - val_loss: 0.2519 - val_acc: 0.9038\n",
      "Epoch 6/20\n",
      "10400/10400 [==============================] - 13s 1ms/step - loss: 0.2159 - acc: 0.9167 - val_loss: 0.2470 - val_acc: 0.9005\n",
      "Epoch 7/20\n",
      "10400/10400 [==============================] - 15s 1ms/step - loss: 0.2094 - acc: 0.9195 - val_loss: 0.2376 - val_acc: 0.9085\n",
      "Epoch 8/20\n",
      "10400/10400 [==============================] - 15s 1ms/step - loss: 0.1919 - acc: 0.9247 - val_loss: 0.2593 - val_acc: 0.8951\n",
      "Epoch 9/20\n",
      "10400/10400 [==============================] - 13s 1ms/step - loss: 0.1910 - acc: 0.9263 - val_loss: 0.2385 - val_acc: 0.9067\n",
      "Epoch 10/20\n",
      "10400/10400 [==============================] - 13s 1ms/step - loss: 0.1748 - acc: 0.9320 - val_loss: 0.2488 - val_acc: 0.8991\n",
      "Epoch 11/20\n",
      "10400/10400 [==============================] - 16s 2ms/step - loss: 0.1687 - acc: 0.9357 - val_loss: 0.2444 - val_acc: 0.9085\n",
      "Epoch 12/20\n",
      "10400/10400 [==============================] - 15s 1ms/step - loss: 0.1600 - acc: 0.9388 - val_loss: 0.2430 - val_acc: 0.9056\n",
      "Epoch 13/20\n",
      "10400/10400 [==============================] - 15s 1ms/step - loss: 0.1456 - acc: 0.9451 - val_loss: 0.2328 - val_acc: 0.9183\n",
      "Epoch 14/20\n",
      "10400/10400 [==============================] - 14s 1ms/step - loss: 0.1351 - acc: 0.9490 - val_loss: 0.2432 - val_acc: 0.9067\n",
      "Epoch 15/20\n",
      "10400/10400 [==============================] - 15s 1ms/step - loss: 0.1254 - acc: 0.9536 - val_loss: 0.2513 - val_acc: 0.9096\n",
      "Epoch 16/20\n",
      "10400/10400 [==============================] - 15s 1ms/step - loss: 0.1165 - acc: 0.9566 - val_loss: 0.2534 - val_acc: 0.9172\n",
      "Epoch 17/20\n",
      "10400/10400 [==============================] - 14s 1ms/step - loss: 0.1128 - acc: 0.9574 - val_loss: 0.2502 - val_acc: 0.9139\n",
      "Epoch 18/20\n",
      "10400/10400 [==============================] - 14s 1ms/step - loss: 0.0957 - acc: 0.9655 - val_loss: 0.2532 - val_acc: 0.9139\n",
      "Epoch 19/20\n",
      "10400/10400 [==============================] - 14s 1ms/step - loss: 0.0849 - acc: 0.9693 - val_loss: 0.2840 - val_acc: 0.9060\n",
      "Epoch 20/20\n",
      "10400/10400 [==============================] - 15s 1ms/step - loss: 0.0769 - acc: 0.9733 - val_loss: 0.2909 - val_acc: 0.9085\n"
     ]
    }
   ],
   "source": [
    "#train LeNet\n",
    "model = LeNet.build(width = 28, height = 28, depth = 1, classes = 2)\n",
    "model.compile(loss = \"binary_crossentropy\", \n",
    "              optimizer = \"adam\", metrics = [\"accuracy\"])\n",
    "H = model.fit(trainX, trainY, validation_data = (testX, testY),\n",
    "             class_weight = classWeights, batch_size = 64, \n",
    "              epochs = 20, verbose = 1)"
   ]
  },
  {
   "cell_type": "code",
   "execution_count": 57,
   "metadata": {
    "ExecuteTime": {
     "end_time": "2019-03-04T02:16:39.260168Z",
     "start_time": "2019-03-04T02:16:37.998069Z"
    }
   },
   "outputs": [
    {
     "name": "stdout",
     "output_type": "stream",
     "text": [
      "             precision    recall  f1-score   support\n",
      "\n",
      "not_smiling       0.93      0.94      0.94      1990\n",
      "    smiling       0.84      0.83      0.84       775\n",
      "\n",
      "avg / total       0.91      0.91      0.91      2765\n",
      "\n"
     ]
    }
   ],
   "source": [
    "#evaluate the network\n",
    "predictions = model.predict(testX, batch_size = 64)\n",
    "print(classification_report(testY.argmax(axis = 1),\n",
    "                           predictions.argmax(axis = 1), \n",
    "                            target_names = le.classes_))"
   ]
  },
  {
   "cell_type": "code",
   "execution_count": 58,
   "metadata": {
    "ExecuteTime": {
     "end_time": "2019-03-04T02:16:56.670532Z",
     "start_time": "2019-03-04T02:16:56.352669Z"
    }
   },
   "outputs": [],
   "source": [
    "#save the model\n",
    "model.save(\"model/smiles_lenet_epochs20.hdf5\")"
   ]
  },
  {
   "cell_type": "code",
   "execution_count": 60,
   "metadata": {
    "ExecuteTime": {
     "end_time": "2019-03-04T02:17:19.134969Z",
     "start_time": "2019-03-04T02:17:19.010952Z"
    }
   },
   "outputs": [
    {
     "data": {
      "image/png": "[encoded data removed]",
      "text/plain": [
       "<Figure size 432x288 with 1 Axes>"
      ]
     },
     "metadata": {},
     "output_type": "display_data"
    }
   ],
   "source": [
    "#plot the train test loss and acc\n",
    "plt.style.use(\"ggplot\")\n",
    "plt.figure()\n",
    "plt.plot(np.arange(0,20), H.history[\"loss\"], label=\"train_loss\")\n",
    "plt.plot(np.arange(0,20), H.history[\"val_loss\"], label=\"val_loss\")\n",
    "plt.plot(np.arange(0,20), H.history[\"acc\"], label=\"acc\")\n",
    "plt.plot(np.arange(0,20), H.history[\"val_acc\"], label=\"val_acc\")\n",
    "plt.title(\"Training Loss and Acc\")\n",
    "plt.xlabel(\"Epoch #\")\n",
    "plt.ylabel(\"Loss/Acc\")\n",
    "plt.legend()\n",
    "plt.show()"
   ]
  },
  {
   "cell_type": "code",
   "execution_count": 42,
   "metadata": {
    "ExecuteTime": {
     "end_time": "2019-03-03T23:27:47.829957Z",
     "start_time": "2019-03-03T23:27:47.826582Z"
    }
   },
   "outputs": [],
   "source": [
    "#running the smile cnn in real time\n",
    "#detect_smile.py\n",
    "# import the necessary packages\n",
    "from keras.preprocessing.image import img_to_array\n",
    "#used to convert each individual frame from video stream to properly channel ordered array\n",
    "from keras.models import load_model\n",
    "import numpy as np\n",
    "import argparse\n",
    "import imutils\n",
    "import cv2"
   ]
  },
  {
   "cell_type": "code",
   "execution_count": 54,
   "metadata": {
    "ExecuteTime": {
     "end_time": "2019-03-04T00:47:43.517558Z",
     "start_time": "2019-03-04T00:47:43.514151Z"
    }
   },
   "outputs": [],
   "source": [
    "cascade = \"haarcascade_frontalface_default.xml\"\n",
    "#path to where the Haar face cascade resides\n",
    "model_cnn = \"model/smiles_lenet.hdf5\"\n",
    "#path to wear the model is saved\n",
    "video = \"data/test1.mp4\"\n",
    "#path to wear the video is"
   ]
  },
  {
   "cell_type": "markdown",
   "metadata": {},
   "source": [
    "The Haar cascade algorithm is capable of detecting objects in images, regardless of their location and scale. the detector can run in real-time on modern hardware.\n",
    "https://www.datacamp.com/community/tutorials/face-detection-python-opencv#face-detection\n",
    "https://www.learnopencv.com/histogram-of-oriented-gradients/"
   ]
  },
  {
   "cell_type": "code",
   "execution_count": 53,
   "metadata": {
    "ExecuteTime": {
     "end_time": "2019-03-04T00:45:42.561506Z",
     "start_time": "2019-03-04T00:45:41.402459Z"
    }
   },
   "outputs": [],
   "source": [
    "#load the face detector cascade and smile detetctor CNN\n",
    "detector = cv2.CascadeClassifier(cascade)\n",
    "model1 = load_model(model_cnn)\n",
    "\n",
    "\n"
   ]
  },
  {
   "cell_type": "code",
   "execution_count": 55,
   "metadata": {
    "ExecuteTime": {
     "end_time": "2019-03-04T00:47:51.151517Z",
     "start_time": "2019-03-04T00:47:51.136850Z"
    }
   },
   "outputs": [],
   "source": [
    "#take web cam output else take video from path\n",
    "if(video):\n",
    "    camera = cv2.VideoCapture(video) #pre saved video file\n",
    "else:\n",
    "    camera = cv2.VideoCapture(0) #webcam"
   ]
  },
  {
   "cell_type": "code",
   "execution_count": null,
   "metadata": {},
   "outputs": [],
   "source": [
    "#main processing pipeline\n",
    "while True:\n",
    "    #grab the current frame\n",
    "    (grabbed, frame) = camera.read()\n",
    "    \n",
    "    #if we are viewing a video and didn't grab a frame, \n",
    "    #then we have reached the end of thr video\n",
    "    if(video) and not grabbed:\n",
    "        break \n",
    "        \n",
    "    #resize the frame, convert to grayscale then clone the OG frame\n",
    "    frame = imutils.resize(frame, width = 300)\n",
    "    gray = cv2.cvtColor(frame, cv2.COLOR_BGR2GRAY)\n",
    "    frameClone = frame.copy()\n",
    "    \n",
    "    #detect faces in the input frame\n",
    "    rects = detector.detectMultiScale(gray, scaleFactor = 1.1,\n",
    "                                      minNeighbors = 5, minSize = (30,30),\n",
    "                                      flags = cv2.CASCADE_SCALE_IMAGE)\n",
    "    #the face must have a min width of 30x30\n",
    "    #minneighbors helps prune false positives\n",
    "    #scalefactor controls the number of image pyramids generated\n",
    "    #returns a list of 4-tuples that form a rectangle \n",
    "    #that bounds the face in the frame (x,y,h,w)\n",
    "    for (fX, fY, fW, fH) in rects:\n",
    "        #extract the ROI of face\n",
    "        #resize to 28x28 and send to CNN\n",
    "        roi = gray[fY:fY + fH, fX: fX + fW]\n",
    "        roi = cv2.resize(roi, (28,28))\n",
    "        roi = roi.astype(\"float\") / 255.0\n",
    "        roi = img_to_array(roi)\n",
    "        roi = np.expand_dims(roi, axis = 0) #padding the image with an extra dimension\n",
    "        \n",
    "        #determine prob of smiling and not\n",
    "        (notSmiling, smiling) = model1.predict(roi)[0]\n",
    "        label = \"Smiling\" if smiling > notSmiling else \"Not Smiling\"\n",
    "        \n",
    "        #display the label and bounding box rectangle on subject\n",
    "        cv2.putText(frameClone, label, (fX, fY - 10), \n",
    "                   cv2.FONT_HERSHEY_COMPLEX, 0.45, (0,0,255), 2)\n",
    "        cv2.rectangle(frameClone, (fX, fY), (fX + fW, fY + fH), (0,0,255),2)\n",
    "    \n",
    "    cv2.imshow(\"Face\", frameClone)\n",
    "        \n",
    "    #if 'q' key is pressed, stop the loop\n",
    "    if cv2.waitKey(1) & 0xFF == ord(\"q\"):\n",
    "        break\n",
    "\n",
    "#cleanup the camera and close any open windows\n",
    "camera.release()\n",
    "cv2.destroyAllWindows()"
   ]
  }
 ],
 "metadata": {
  "kernelspec": {
   "display_name": "Python 3",
   "language": "python",
   "name": "python3"
  },
  "language_info": {
   "codemirror_mode": {
    "name": "ipython",
    "version": 3
   },
   "file_extension": ".py",
   "mimetype": "text/x-python",
   "name": "python",
   "nbconvert_exporter": "python",
   "pygments_lexer": "ipython3",
   "version": "3.6.5"
  }
 },
 "nbformat": 4,
 "nbformat_minor": 2
}
